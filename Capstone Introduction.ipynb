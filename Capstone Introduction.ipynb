{
    "nbformat_minor": 2, 
    "cells": [
        {
            "source": "# Introduction\n\n#### This report is for commercial companies as well as State law enforcement on ways to reduce crime, provide internet accesses as well solve potential crimes. Suggestions provided in this study will provide recommendations on where to emplace wifi Camera systems that provide a free 5G Wifi service in New York City.  Crime in select New York City neighborhoods has increased overtime despite efforts to Police the areas. What I would to illustrate is that there is a direct correlation to locations that offer free Wifi and reduced crime rates. While deciding the location to offer free wifi service there are several factors to consider. Below is the data required to explain the problem and recommendations on where to place more cameras. My business does not require a physical location to establish a company headquarters since we are providing a service. The service that I am providing has two(2) target audiences; law enforcement, and people looking for free data. Additionally, I will have ad services targeted to those individuals using the free wifi.", 
            "cell_type": "markdown", 
            "metadata": {}
        }, 
        {
            "source": "# Data\n\n### This submission will eventually become your Data section in your final report. So I recommend that you push the report (having your Data section) to your Github repository and submit a link to it.\n#### 1.) Locational data for all Wi-Fi access points in New York City. I will use this data to show that areas in New York City that have clusters of WiFi have lower crime rates. I will then use areas without WiFi to use as locations to install wifi 5G cameras \n#### 2.) Crime statistics for New York City. This data will be used to show where crime is higher than surrounding areas. \n#### 3.) New York City Neighborhood Names from Four Square. ", 
            "cell_type": "markdown", 
            "metadata": {}
        }, 
        {
            "execution_count": null, 
            "cell_type": "code", 
            "metadata": {}, 
            "outputs": [], 
            "source": ""
        }
    ], 
    "metadata": {
        "kernelspec": {
            "display_name": "Python 3.5", 
            "name": "python3", 
            "language": "python"
        }, 
        "language_info": {
            "mimetype": "text/x-python", 
            "nbconvert_exporter": "python", 
            "version": "3.5.5", 
            "name": "python", 
            "file_extension": ".py", 
            "pygments_lexer": "ipython3", 
            "codemirror_mode": {
                "version": 3, 
                "name": "ipython"
            }
        }
    }, 
    "nbformat": 4
}