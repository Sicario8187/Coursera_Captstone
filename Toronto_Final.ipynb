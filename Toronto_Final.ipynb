{
    "nbformat_minor": 2, 
    "cells": [
        {
            "source": "### Import The Required Libraries", 
            "cell_type": "markdown", 
            "metadata": {}
        }, 
        {
            "execution_count": 1, 
            "cell_type": "code", 
            "metadata": {}, 
            "outputs": [], 
            "source": "import requests\nimport lxml.html as lh\nimport pandas as pd\nimport numpy as np"
        }, 
        {
            "source": "### Scrape The Website", 
            "cell_type": "markdown", 
            "metadata": {}
        }, 
        {
            "execution_count": 2, 
            "cell_type": "code", 
            "metadata": {}, 
            "outputs": [], 
            "source": "url='https://en.wikipedia.org/wiki/List_of_postal_codes_of_Canada:_M'\n\n#Create a handle, page, to handle the contents of the website\npage = requests.get(url)\n\n#Store the contents of the website under doc\ndoc = lh.fromstring(page.content)\n\n#Parse data that are stored between <tr>..</tr> of HTML\ntr_elements = doc.xpath('//tr')"
        }, 
        {
            "execution_count": 3, 
            "cell_type": "code", 
            "metadata": {}, 
            "outputs": [
                {
                    "execution_count": 3, 
                    "metadata": {}, 
                    "data": {
                        "text/plain": "[3, 3, 3, 3, 3, 3, 3, 3, 3, 3, 3, 3]"
                    }, 
                    "output_type": "execute_result"
                }
            ], 
            "source": "#Check the length of the first 12 rows\n[len(T) for T in tr_elements[:12]]"
        }, 
        {
            "source": "### Create Empty List and store header information", 
            "cell_type": "markdown", 
            "metadata": {}
        }, 
        {
            "execution_count": 4, 
            "cell_type": "code", 
            "metadata": {}, 
            "outputs": [
                {
                    "output_type": "stream", 
                    "name": "stdout", 
                    "text": "1 Postcode\n2 Borough\n3 Neighbourhood\n\n"
                }
            ], 
            "source": "tr_elements = doc.xpath('//tr')\n#Create empty list\ncol=[]\ni=0\n\n#For each row, store each first element (header) and an empty list\nfor t in tr_elements[0]:\n    i+=1\n    name=t.text_content()\n    print('%d %s' % (i,name))\n    col.append((name,[]))"
        }, 
        {
            "source": "### Loop Data into the DF", 
            "cell_type": "markdown", 
            "metadata": {}
        }, 
        {
            "execution_count": 5, 
            "cell_type": "code", 
            "metadata": {}, 
            "outputs": [], 
            "source": "#Since out first row is the header, data is stored on the second row onwards\nfor j in range(1,len(tr_elements)):\n    #T is our j'th row\n    T=tr_elements[j]\n    \n    #If row is not of size 10, the //tr data is not from our table \n    if len(T)!=3:\n        break\n    \n    #i is the index of our column\n    i=0\n    \n    #Iterate through each element of the row\n    for t in T.iterchildren():\n        data=t.text_content() \n        #Check if row is empty\n        if i>0:\n        #Convert any numerical value to integers\n            try:\n                data=int(data)\n            except:\n                pass\n        #Append the data to the empty list of the i'th column\n        col[i][1].append(data)\n        #Increment i for the next column\n        i+=1"
        }, 
        {
            "execution_count": 6, 
            "cell_type": "code", 
            "metadata": {}, 
            "outputs": [
                {
                    "execution_count": 6, 
                    "metadata": {}, 
                    "data": {
                        "text/plain": "[289, 289, 289]"
                    }, 
                    "output_type": "execute_result"
                }
            ], 
            "source": "[len(C) for (title,C) in col]"
        }, 
        {
            "execution_count": 7, 
            "cell_type": "code", 
            "metadata": {}, 
            "outputs": [], 
            "source": "Dict={title:column for (title,column) in col}\ndf=pd.DataFrame(Dict)"
        }, 
        {
            "source": "### Drop \"Not Assigned Values\"", 
            "cell_type": "markdown", 
            "metadata": {}
        }, 
        {
            "execution_count": 8, 
            "cell_type": "code", 
            "metadata": {}, 
            "outputs": [], 
            "source": "dropped_df=df[df.Borough != 'Not assigned']"
        }, 
        {
            "execution_count": 9, 
            "cell_type": "code", 
            "metadata": {}, 
            "outputs": [], 
            "source": "consolidated_df=dropped_df.groupby(['Postcode','Borough'], sort = False).agg(lambda x: ','.join(x))"
        }, 
        {
            "execution_count": 10, 
            "cell_type": "code", 
            "metadata": {}, 
            "outputs": [
                {
                    "execution_count": 10, 
                    "metadata": {}, 
                    "data": {
                        "text/html": "<div>\n<style scoped>\n    .dataframe tbody tr th:only-of-type {\n        vertical-align: middle;\n    }\n\n    .dataframe tbody tr th {\n        vertical-align: top;\n    }\n\n    .dataframe thead th {\n        text-align: right;\n    }\n</style>\n<table border=\"1\" class=\"dataframe\">\n  <thead>\n    <tr style=\"text-align: right;\">\n      <th></th>\n      <th></th>\n      <th>Neighbourhood</th>\n    </tr>\n    <tr>\n      <th>Postcode</th>\n      <th>Borough</th>\n      <th></th>\n    </tr>\n  </thead>\n  <tbody>\n    <tr>\n      <th>M3A</th>\n      <th>North York</th>\n      <td>Parkwoods\\n</td>\n    </tr>\n    <tr>\n      <th>M4A</th>\n      <th>North York</th>\n      <td>Victoria Village\\n</td>\n    </tr>\n    <tr>\n      <th>M5A</th>\n      <th>Downtown Toronto</th>\n      <td>Harbourfront\\n,Regent Park\\n</td>\n    </tr>\n    <tr>\n      <th>M6A</th>\n      <th>North York</th>\n      <td>Lawrence Heights\\n,Lawrence Manor\\n</td>\n    </tr>\n    <tr>\n      <th>M7A</th>\n      <th>Queen's Park</th>\n      <td>Not assigned\\n</td>\n    </tr>\n    <tr>\n      <th>M9A</th>\n      <th>Etobicoke</th>\n      <td>Islington Avenue\\n</td>\n    </tr>\n    <tr>\n      <th>M1B</th>\n      <th>Scarborough</th>\n      <td>Rouge\\n,Malvern\\n</td>\n    </tr>\n    <tr>\n      <th>M3B</th>\n      <th>North York</th>\n      <td>Don Mills North\\n</td>\n    </tr>\n    <tr>\n      <th>M4B</th>\n      <th>East York</th>\n      <td>Woodbine Gardens\\n,Parkview Hill\\n</td>\n    </tr>\n    <tr>\n      <th>M5B</th>\n      <th>Downtown Toronto</th>\n      <td>Ryerson\\n,Garden District\\n</td>\n    </tr>\n    <tr>\n      <th>M6B</th>\n      <th>North York</th>\n      <td>Glencairn\\n</td>\n    </tr>\n    <tr>\n      <th>M9B</th>\n      <th>Etobicoke</th>\n      <td>Cloverdale\\n,Islington\\n,Martin Grove\\n,Prince...</td>\n    </tr>\n    <tr>\n      <th>M1C</th>\n      <th>Scarborough</th>\n      <td>Highland Creek\\n,Rouge Hill\\n,Port Union\\n</td>\n    </tr>\n    <tr>\n      <th>M3C</th>\n      <th>North York</th>\n      <td>Flemingdon Park\\n,Don Mills South\\n</td>\n    </tr>\n    <tr>\n      <th>M4C</th>\n      <th>East York</th>\n      <td>Woodbine Heights\\n</td>\n    </tr>\n    <tr>\n      <th>M5C</th>\n      <th>Downtown Toronto</th>\n      <td>St. James Town\\n</td>\n    </tr>\n    <tr>\n      <th>M6C</th>\n      <th>York</th>\n      <td>Humewood-Cedarvale\\n</td>\n    </tr>\n    <tr>\n      <th>M9C</th>\n      <th>Etobicoke</th>\n      <td>Bloordale Gardens\\n,Eringate\\n,Markland Wood\\n...</td>\n    </tr>\n    <tr>\n      <th>M1E</th>\n      <th>Scarborough</th>\n      <td>Guildwood\\n,Morningside\\n,West Hill\\n</td>\n    </tr>\n    <tr>\n      <th>M4E</th>\n      <th>East Toronto</th>\n      <td>The Beaches\\n</td>\n    </tr>\n    <tr>\n      <th>M5E</th>\n      <th>Downtown Toronto</th>\n      <td>Berczy Park\\n</td>\n    </tr>\n    <tr>\n      <th>M6E</th>\n      <th>York</th>\n      <td>Caledonia-Fairbanks\\n</td>\n    </tr>\n    <tr>\n      <th>M1G</th>\n      <th>Scarborough</th>\n      <td>Woburn\\n</td>\n    </tr>\n    <tr>\n      <th>M4G</th>\n      <th>East York</th>\n      <td>Leaside\\n</td>\n    </tr>\n    <tr>\n      <th>M5G</th>\n      <th>Downtown Toronto</th>\n      <td>Central Bay Street\\n</td>\n    </tr>\n    <tr>\n      <th>M6G</th>\n      <th>Downtown Toronto</th>\n      <td>Christie\\n</td>\n    </tr>\n    <tr>\n      <th>M1H</th>\n      <th>Scarborough</th>\n      <td>Cedarbrae\\n</td>\n    </tr>\n    <tr>\n      <th>M2H</th>\n      <th>North York</th>\n      <td>Hillcrest Village\\n</td>\n    </tr>\n    <tr>\n      <th>M3H</th>\n      <th>North York</th>\n      <td>Bathurst Manor\\n,Downsview North\\n,Wilson Heig...</td>\n    </tr>\n    <tr>\n      <th>M4H</th>\n      <th>East York</th>\n      <td>Thorncliffe Park\\n</td>\n    </tr>\n    <tr>\n      <th>...</th>\n      <th>...</th>\n      <td>...</td>\n    </tr>\n    <tr>\n      <th>M4R</th>\n      <th>Central Toronto</th>\n      <td>North Toronto West\\n</td>\n    </tr>\n    <tr>\n      <th>M5R</th>\n      <th>Central Toronto</th>\n      <td>The Annex\\n,North Midtown\\n,Yorkville\\n</td>\n    </tr>\n    <tr>\n      <th>M6R</th>\n      <th>West Toronto</th>\n      <td>Parkdale\\n,Roncesvalles\\n</td>\n    </tr>\n    <tr>\n      <th>M7R</th>\n      <th>Mississauga</th>\n      <td>Canada Post Gateway Processing Centre\\n</td>\n    </tr>\n    <tr>\n      <th>M9R</th>\n      <th>Etobicoke</th>\n      <td>Kingsview Village\\n,Martin Grove Gardens\\n,Ric...</td>\n    </tr>\n    <tr>\n      <th>M1S</th>\n      <th>Scarborough</th>\n      <td>Agincourt\\n</td>\n    </tr>\n    <tr>\n      <th>M4S</th>\n      <th>Central Toronto</th>\n      <td>Davisville\\n</td>\n    </tr>\n    <tr>\n      <th>M5S</th>\n      <th>Downtown Toronto</th>\n      <td>Harbord\\n,University of Toronto\\n</td>\n    </tr>\n    <tr>\n      <th>M6S</th>\n      <th>West Toronto</th>\n      <td>Runnymede\\n,Swansea\\n</td>\n    </tr>\n    <tr>\n      <th>M1T</th>\n      <th>Scarborough</th>\n      <td>Clarks Corners\\n,Sullivan\\n,Tam O'Shanter\\n</td>\n    </tr>\n    <tr>\n      <th>M4T</th>\n      <th>Central Toronto</th>\n      <td>Moore Park\\n,Summerhill East\\n</td>\n    </tr>\n    <tr>\n      <th>M5T</th>\n      <th>Downtown Toronto</th>\n      <td>Chinatown\\n,Grange Park\\n,Kensington Market\\n</td>\n    </tr>\n    <tr>\n      <th>M1V</th>\n      <th>Scarborough</th>\n      <td>Agincourt North\\n,L'Amoreaux East\\n,Milliken\\n...</td>\n    </tr>\n    <tr>\n      <th>M4V</th>\n      <th>Central Toronto</th>\n      <td>Deer Park\\n,Forest Hill SE\\n,Rathnelly\\n,South...</td>\n    </tr>\n    <tr>\n      <th>M5V</th>\n      <th>Downtown Toronto</th>\n      <td>CN Tower\\n,Bathurst Quay\\n,Island airport\\n,Ha...</td>\n    </tr>\n    <tr>\n      <th>M8V</th>\n      <th>Etobicoke</th>\n      <td>Humber Bay Shores\\n,Mimico South\\n,New Toronto\\n</td>\n    </tr>\n    <tr>\n      <th>M9V</th>\n      <th>Etobicoke</th>\n      <td>Albion Gardens\\n,Beaumond Heights\\n,Humbergate...</td>\n    </tr>\n    <tr>\n      <th>M1W</th>\n      <th>Scarborough</th>\n      <td>L'Amoreaux West\\n,Steeles West\\n</td>\n    </tr>\n    <tr>\n      <th>M4W</th>\n      <th>Downtown Toronto</th>\n      <td>Rosedale\\n</td>\n    </tr>\n    <tr>\n      <th>M5W</th>\n      <th>Downtown Toronto</th>\n      <td>Stn A PO Boxes 25 The Esplanade\\n</td>\n    </tr>\n    <tr>\n      <th>M8W</th>\n      <th>Etobicoke</th>\n      <td>Alderwood\\n,Long Branch\\n</td>\n    </tr>\n    <tr>\n      <th>M9W</th>\n      <th>Etobicoke</th>\n      <td>Northwest\\n</td>\n    </tr>\n    <tr>\n      <th>M1X</th>\n      <th>Scarborough</th>\n      <td>Upper Rouge\\n</td>\n    </tr>\n    <tr>\n      <th>M4X</th>\n      <th>Downtown Toronto</th>\n      <td>Cabbagetown\\n,St. James Town\\n</td>\n    </tr>\n    <tr>\n      <th>M5X</th>\n      <th>Downtown Toronto</th>\n      <td>First Canadian Place\\n,Underground city\\n</td>\n    </tr>\n    <tr>\n      <th>M8X</th>\n      <th>Etobicoke</th>\n      <td>The Kingsway\\n,Montgomery Road\\n,Old Mill North\\n</td>\n    </tr>\n    <tr>\n      <th>M4Y</th>\n      <th>Downtown Toronto</th>\n      <td>Church and Wellesley\\n</td>\n    </tr>\n    <tr>\n      <th>M7Y</th>\n      <th>East Toronto</th>\n      <td>Business Reply Mail Processing Centre 969 East...</td>\n    </tr>\n    <tr>\n      <th>M8Y</th>\n      <th>Etobicoke</th>\n      <td>Humber Bay\\n,King's Mill Park\\n,Kingsway Park ...</td>\n    </tr>\n    <tr>\n      <th>M8Z</th>\n      <th>Etobicoke</th>\n      <td>Kingsway Park South West\\n,Mimico NW\\n,The Que...</td>\n    </tr>\n  </tbody>\n</table>\n<p>103 rows \u00d7 1 columns</p>\n</div>", 
                        "text/plain": "                                                             Neighbourhood\\n\nPostcode Borough                                                            \nM3A      North York                                              Parkwoods\\n\nM4A      North York                                       Victoria Village\\n\nM5A      Downtown Toronto                       Harbourfront\\n,Regent Park\\n\nM6A      North York                      Lawrence Heights\\n,Lawrence Manor\\n\nM7A      Queen's Park                                         Not assigned\\n\nM9A      Etobicoke                                        Islington Avenue\\n\nM1B      Scarborough                                       Rouge\\n,Malvern\\n\nM3B      North York                                        Don Mills North\\n\nM4B      East York                        Woodbine Gardens\\n,Parkview Hill\\n\nM5B      Downtown Toronto                        Ryerson\\n,Garden District\\n\nM6B      North York                                              Glencairn\\n\nM9B      Etobicoke         Cloverdale\\n,Islington\\n,Martin Grove\\n,Prince...\nM1C      Scarborough              Highland Creek\\n,Rouge Hill\\n,Port Union\\n\nM3C      North York                      Flemingdon Park\\n,Don Mills South\\n\nM4C      East York                                        Woodbine Heights\\n\nM5C      Downtown Toronto                                   St. James Town\\n\nM6C      York                                           Humewood-Cedarvale\\n\nM9C      Etobicoke         Bloordale Gardens\\n,Eringate\\n,Markland Wood\\n...\nM1E      Scarborough                   Guildwood\\n,Morningside\\n,West Hill\\n\nM4E      East Toronto                                          The Beaches\\n\nM5E      Downtown Toronto                                      Berczy Park\\n\nM6E      York                                          Caledonia-Fairbanks\\n\nM1G      Scarborough                                                Woburn\\n\nM4G      East York                                                 Leaside\\n\nM5G      Downtown Toronto                               Central Bay Street\\n\nM6G      Downtown Toronto                                         Christie\\n\nM1H      Scarborough                                             Cedarbrae\\n\nM2H      North York                                      Hillcrest Village\\n\nM3H      North York        Bathurst Manor\\n,Downsview North\\n,Wilson Heig...\nM4H      East York                                        Thorncliffe Park\\n\n...                                                                      ...\nM4R      Central Toronto                                North Toronto West\\n\nM5R      Central Toronto             The Annex\\n,North Midtown\\n,Yorkville\\n\nM6R      West Toronto                              Parkdale\\n,Roncesvalles\\n\nM7R      Mississauga                 Canada Post Gateway Processing Centre\\n\nM9R      Etobicoke         Kingsview Village\\n,Martin Grove Gardens\\n,Ric...\nM1S      Scarborough                                             Agincourt\\n\nM4S      Central Toronto                                        Davisville\\n\nM5S      Downtown Toronto                  Harbord\\n,University of Toronto\\n\nM6S      West Toronto                                  Runnymede\\n,Swansea\\n\nM1T      Scarborough             Clarks Corners\\n,Sullivan\\n,Tam O'Shanter\\n\nM4T      Central Toronto                      Moore Park\\n,Summerhill East\\n\nM5T      Downtown Toronto      Chinatown\\n,Grange Park\\n,Kensington Market\\n\nM1V      Scarborough       Agincourt North\\n,L'Amoreaux East\\n,Milliken\\n...\nM4V      Central Toronto   Deer Park\\n,Forest Hill SE\\n,Rathnelly\\n,South...\nM5V      Downtown Toronto  CN Tower\\n,Bathurst Quay\\n,Island airport\\n,Ha...\nM8V      Etobicoke          Humber Bay Shores\\n,Mimico South\\n,New Toronto\\n\nM9V      Etobicoke         Albion Gardens\\n,Beaumond Heights\\n,Humbergate...\nM1W      Scarborough                        L'Amoreaux West\\n,Steeles West\\n\nM4W      Downtown Toronto                                         Rosedale\\n\nM5W      Downtown Toronto                  Stn A PO Boxes 25 The Esplanade\\n\nM8W      Etobicoke                                 Alderwood\\n,Long Branch\\n\nM9W      Etobicoke                                               Northwest\\n\nM1X      Scarborough                                           Upper Rouge\\n\nM4X      Downtown Toronto                     Cabbagetown\\n,St. James Town\\n\nM5X      Downtown Toronto          First Canadian Place\\n,Underground city\\n\nM8X      Etobicoke         The Kingsway\\n,Montgomery Road\\n,Old Mill North\\n\nM4Y      Downtown Toronto                             Church and Wellesley\\n\nM7Y      East Toronto      Business Reply Mail Processing Centre 969 East...\nM8Y      Etobicoke         Humber Bay\\n,King's Mill Park\\n,Kingsway Park ...\nM8Z      Etobicoke         Kingsway Park South West\\n,Mimico NW\\n,The Que...\n\n[103 rows x 1 columns]"
                    }, 
                    "output_type": "execute_result"
                }
            ], 
            "source": "consolidated_df"
        }, 
        {
            "source": "### Get Shape", 
            "cell_type": "markdown", 
            "metadata": {}
        }, 
        {
            "execution_count": 11, 
            "cell_type": "code", 
            "metadata": {}, 
            "outputs": [
                {
                    "execution_count": 11, 
                    "metadata": {}, 
                    "data": {
                        "text/plain": "(103, 1)"
                    }, 
                    "output_type": "execute_result"
                }
            ], 
            "source": "consolidated_df.shape"
        }, 
        {
            "execution_count": null, 
            "cell_type": "code", 
            "metadata": {}, 
            "outputs": [], 
            "source": ""
        }
    ], 
    "metadata": {
        "kernelspec": {
            "display_name": "Python 3", 
            "name": "python3", 
            "language": "python"
        }, 
        "language_info": {
            "mimetype": "text/x-python", 
            "nbconvert_exporter": "python", 
            "version": "3.6.8", 
            "name": "python", 
            "file_extension": ".py", 
            "pygments_lexer": "ipython3", 
            "codemirror_mode": {
                "version": 3, 
                "name": "ipython"
            }
        }
    }, 
    "nbformat": 4
}